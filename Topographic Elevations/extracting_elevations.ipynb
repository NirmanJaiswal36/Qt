{
 "cells": [
  {
   "cell_type": "code",
   "execution_count": 33,
   "metadata": {},
   "outputs": [
    {
     "data": {
      "text/html": [
       "<div>\n",
       "<style scoped>\n",
       "    .dataframe tbody tr th:only-of-type {\n",
       "        vertical-align: middle;\n",
       "    }\n",
       "\n",
       "    .dataframe tbody tr th {\n",
       "        vertical-align: top;\n",
       "    }\n",
       "\n",
       "    .dataframe thead th {\n",
       "        text-align: right;\n",
       "    }\n",
       "</style>\n",
       "<table border=\"1\" class=\"dataframe\">\n",
       "  <thead>\n",
       "    <tr style=\"text-align: right;\">\n",
       "      <th></th>\n",
       "      <th>Id</th>\n",
       "      <th>name</th>\n",
       "      <th>geometry</th>\n",
       "      <th>elevations</th>\n",
       "    </tr>\n",
       "  </thead>\n",
       "  <tbody>\n",
       "    <tr>\n",
       "      <th>0</th>\n",
       "      <td>0</td>\n",
       "      <td>station1</td>\n",
       "      <td>POINT (116.66012 6.20102)</td>\n",
       "      <td>0</td>\n",
       "    </tr>\n",
       "    <tr>\n",
       "      <th>1</th>\n",
       "      <td>0</td>\n",
       "      <td>station2</td>\n",
       "      <td>POINT (116.86285 6.10965)</td>\n",
       "      <td>0</td>\n",
       "    </tr>\n",
       "    <tr>\n",
       "      <th>2</th>\n",
       "      <td>0</td>\n",
       "      <td>station3</td>\n",
       "      <td>POINT (117.12412 6.12821)</td>\n",
       "      <td>0</td>\n",
       "    </tr>\n",
       "    <tr>\n",
       "      <th>3</th>\n",
       "      <td>0</td>\n",
       "      <td>station4</td>\n",
       "      <td>POINT (117.29115 6.30524)</td>\n",
       "      <td>0</td>\n",
       "    </tr>\n",
       "    <tr>\n",
       "      <th>4</th>\n",
       "      <td>0</td>\n",
       "      <td>station5</td>\n",
       "      <td>POINT (116.91996 6.35664)</td>\n",
       "      <td>0</td>\n",
       "    </tr>\n",
       "    <tr>\n",
       "      <th>5</th>\n",
       "      <td>0</td>\n",
       "      <td>station6</td>\n",
       "      <td>POINT (117.03846 6.51511)</td>\n",
       "      <td>0</td>\n",
       "    </tr>\n",
       "    <tr>\n",
       "      <th>6</th>\n",
       "      <td>0</td>\n",
       "      <td>station7</td>\n",
       "      <td>POINT (116.85286 6.64931)</td>\n",
       "      <td>0</td>\n",
       "    </tr>\n",
       "    <tr>\n",
       "      <th>7</th>\n",
       "      <td>0</td>\n",
       "      <td>station8</td>\n",
       "      <td>POINT (116.68868 6.63646)</td>\n",
       "      <td>0</td>\n",
       "    </tr>\n",
       "    <tr>\n",
       "      <th>8</th>\n",
       "      <td>0</td>\n",
       "      <td>station9</td>\n",
       "      <td>POINT (117.28544 6.58078)</td>\n",
       "      <td>0</td>\n",
       "    </tr>\n",
       "  </tbody>\n",
       "</table>\n",
       "</div>"
      ],
      "text/plain": [
       "   Id      name                   geometry  elevations\n",
       "0   0  station1  POINT (116.66012 6.20102)           0\n",
       "1   0  station2  POINT (116.86285 6.10965)           0\n",
       "2   0  station3  POINT (117.12412 6.12821)           0\n",
       "3   0  station4  POINT (117.29115 6.30524)           0\n",
       "4   0  station5  POINT (116.91996 6.35664)           0\n",
       "5   0  station6  POINT (117.03846 6.51511)           0\n",
       "6   0  station7  POINT (116.85286 6.64931)           0\n",
       "7   0  station8  POINT (116.68868 6.63646)           0\n",
       "8   0  station9  POINT (117.28544 6.58078)           0"
      ]
     },
     "execution_count": 33,
     "metadata": {},
     "output_type": "execute_result"
    }
   ],
   "source": [
    "import geopandas as gpd\n",
    "import rasterio\n",
    "\n",
    "#reading shapefile\n",
    "\n",
    "stations = gpd.read_file(r\"D:\\Downloads\\Extract elevation from a DEM-20240528T130638Z-001\\Extract elevation from a DEM\\stations.shp\")\n",
    "\n",
    "#Create an empty column for elevation values\n",
    "stations['elevations']= 0 \n",
    "stations\n"
   ]
  },
  {
   "cell_type": "code",
   "execution_count": 35,
   "metadata": {},
   "outputs": [
    {
     "name": "stderr",
     "output_type": "stream",
     "text": [
      "C:\\Users\\Nirman\\AppData\\Local\\Temp\\ipykernel_4252\\1904066743.py:13: FutureWarning: ChainedAssignmentError: behaviour will change in pandas 3.0!\n",
      "You are setting values through chained assignment. Currently this works in certain cases, but when using Copy-on-Write (which will become the default behaviour in pandas 3.0) this will never work to update the original DataFrame or Series, because the intermediate object on which we are setting values will behave as a copy.\n",
      "A typical example is when you are setting values in a column of a DataFrame, like:\n",
      "\n",
      "df[\"col\"][row_indexer] = value\n",
      "\n",
      "Use `df.loc[row_indexer, \"col\"] = values` instead, to perform the assignment in a single step and ensure this keeps updating the original `df`.\n",
      "\n",
      "See the caveats in the documentation: https://pandas.pydata.org/pandas-docs/stable/user_guide/indexing.html#returning-a-view-versus-a-copy\n",
      "\n",
      "  stations['elevations'].loc[index] = dem_data[row,col]\n",
      "C:\\Users\\Nirman\\AppData\\Local\\Temp\\ipykernel_4252\\1904066743.py:13: SettingWithCopyWarning: \n",
      "A value is trying to be set on a copy of a slice from a DataFrame\n",
      "\n",
      "See the caveats in the documentation: https://pandas.pydata.org/pandas-docs/stable/user_guide/indexing.html#returning-a-view-versus-a-copy\n",
      "  stations['elevations'].loc[index] = dem_data[row,col]\n"
     ]
    },
    {
     "name": "stdout",
     "output_type": "stream",
     "text": [
      "The elevation of  station1 is:  2570 m\n",
      "The elevation of  station2 is:  204 m\n",
      "The elevation of  station3 is:  191 m\n",
      "The elevation of  station4 is:  117 m\n",
      "The elevation of  station5 is:  774 m\n",
      "The elevation of  station6 is:  291 m\n",
      "The elevation of  station7 is:  49 m\n",
      "The elevation of  station8 is:  399 m\n",
      "The elevation of  station9 is:  82 m\n"
     ]
    }
   ],
   "source": [
    "for index,row in stations.iterrows():\n",
    "    name = row['name']\n",
    "    latitude = row['geometry'].y\n",
    "    longitude = row['geometry'].x\n",
    "\n",
    "    #Reading the DEM using rasterio\n",
    "\n",
    "    dem = rasterio.open(r\"D:\\Downloads\\Extract elevation from a DEM-20240528T130638Z-001\\Extract elevation from a DEM\\DEM.tif\")\n",
    "    row,col= dem.index(longitude,latitude)\n",
    "    dem_data = dem.read(1)\n",
    "\n",
    "    #Add the elevation values to 'stations' geodataframe\n",
    "    stations['elevations'].loc[index] = dem_data[row,col]\n",
    "\n",
    "    print(\"The elevation of \", name , \"is: \", dem_data[row,col],\"m\")"
   ]
  },
  {
   "cell_type": "code",
   "execution_count": 42,
   "metadata": {},
   "outputs": [],
   "source": [
    "#Save the information into a csv file\n",
    "\n",
    "elevations = stations[['name','elevations']]\n",
    "elevations.to_csv('Topographic_elevations.csv')"
   ]
  }
 ],
 "metadata": {
  "kernelspec": {
   "display_name": "Python 3",
   "language": "python",
   "name": "python3"
  },
  "language_info": {
   "codemirror_mode": {
    "name": "ipython",
    "version": 3
   },
   "file_extension": ".py",
   "mimetype": "text/x-python",
   "name": "python",
   "nbconvert_exporter": "python",
   "pygments_lexer": "ipython3",
   "version": "3.12.3"
  }
 },
 "nbformat": 4,
 "nbformat_minor": 2
}

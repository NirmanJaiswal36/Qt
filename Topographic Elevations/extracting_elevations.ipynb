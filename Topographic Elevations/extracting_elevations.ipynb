{
 "cells": [
  {
   "cell_type": "code",
   "execution_count": 13,
   "metadata": {},
   "outputs": [
    {
     "data": {
      "text/html": [
       "<div>\n",
       "<style scoped>\n",
       "    .dataframe tbody tr th:only-of-type {\n",
       "        vertical-align: middle;\n",
       "    }\n",
       "\n",
       "    .dataframe tbody tr th {\n",
       "        vertical-align: top;\n",
       "    }\n",
       "\n",
       "    .dataframe thead th {\n",
       "        text-align: right;\n",
       "    }\n",
       "</style>\n",
       "<table border=\"1\" class=\"dataframe\">\n",
       "  <thead>\n",
       "    <tr style=\"text-align: right;\">\n",
       "      <th></th>\n",
       "      <th>Id</th>\n",
       "      <th>name</th>\n",
       "      <th>geometry</th>\n",
       "    </tr>\n",
       "  </thead>\n",
       "  <tbody>\n",
       "    <tr>\n",
       "      <th>0</th>\n",
       "      <td>0</td>\n",
       "      <td>station1</td>\n",
       "      <td>POINT (116.66012 6.20102)</td>\n",
       "    </tr>\n",
       "    <tr>\n",
       "      <th>1</th>\n",
       "      <td>0</td>\n",
       "      <td>station2</td>\n",
       "      <td>POINT (116.86285 6.10965)</td>\n",
       "    </tr>\n",
       "    <tr>\n",
       "      <th>2</th>\n",
       "      <td>0</td>\n",
       "      <td>station3</td>\n",
       "      <td>POINT (117.12412 6.12821)</td>\n",
       "    </tr>\n",
       "    <tr>\n",
       "      <th>3</th>\n",
       "      <td>0</td>\n",
       "      <td>station4</td>\n",
       "      <td>POINT (117.29115 6.30524)</td>\n",
       "    </tr>\n",
       "    <tr>\n",
       "      <th>4</th>\n",
       "      <td>0</td>\n",
       "      <td>station5</td>\n",
       "      <td>POINT (116.91996 6.35664)</td>\n",
       "    </tr>\n",
       "    <tr>\n",
       "      <th>5</th>\n",
       "      <td>0</td>\n",
       "      <td>station6</td>\n",
       "      <td>POINT (117.03846 6.51511)</td>\n",
       "    </tr>\n",
       "    <tr>\n",
       "      <th>6</th>\n",
       "      <td>0</td>\n",
       "      <td>station7</td>\n",
       "      <td>POINT (116.85286 6.64931)</td>\n",
       "    </tr>\n",
       "    <tr>\n",
       "      <th>7</th>\n",
       "      <td>0</td>\n",
       "      <td>station8</td>\n",
       "      <td>POINT (116.68868 6.63646)</td>\n",
       "    </tr>\n",
       "    <tr>\n",
       "      <th>8</th>\n",
       "      <td>0</td>\n",
       "      <td>station9</td>\n",
       "      <td>POINT (117.28544 6.58078)</td>\n",
       "    </tr>\n",
       "  </tbody>\n",
       "</table>\n",
       "</div>"
      ],
      "text/plain": [
       "   Id      name                   geometry\n",
       "0   0  station1  POINT (116.66012 6.20102)\n",
       "1   0  station2  POINT (116.86285 6.10965)\n",
       "2   0  station3  POINT (117.12412 6.12821)\n",
       "3   0  station4  POINT (117.29115 6.30524)\n",
       "4   0  station5  POINT (116.91996 6.35664)\n",
       "5   0  station6  POINT (117.03846 6.51511)\n",
       "6   0  station7  POINT (116.85286 6.64931)\n",
       "7   0  station8  POINT (116.68868 6.63646)\n",
       "8   0  station9  POINT (117.28544 6.58078)"
      ]
     },
     "execution_count": 13,
     "metadata": {},
     "output_type": "execute_result"
    }
   ],
   "source": [
    "import geopandas as gpd\n",
    "import rasterio\n",
    "\n",
    "#reading shapefile\n",
    "\n",
    "stations = gpd.read_file(r\"D:\\Downloads\\Extract elevation from a DEM-20240528T130638Z-001\\Extract elevation from a DEM\\stations.shp\")\n",
    "stations\n"
   ]
  },
  {
   "cell_type": "code",
   "execution_count": 31,
   "metadata": {},
   "outputs": [
    {
     "name": "stdout",
     "output_type": "stream",
     "text": [
      "The elevation of  station1 is:  2570 m\n",
      "The elevation of  station2 is:  204 m\n",
      "The elevation of  station3 is:  191 m\n",
      "The elevation of  station4 is:  117 m\n",
      "The elevation of  station5 is:  774 m\n",
      "The elevation of  station6 is:  291 m\n",
      "The elevation of  station7 is:  49 m\n",
      "The elevation of  station8 is:  399 m\n",
      "The elevation of  station9 is:  82 m\n"
     ]
    }
   ],
   "source": [
    "for index,row in stations.iterrows():\n",
    "    name = row['name']\n",
    "    latitude = row['geometry'].y\n",
    "    longitude = row['geometry'].x\n",
    "\n",
    "    #Reading the DEM using rasterio\n",
    "\n",
    "    dem = rasterio.open(r\"D:\\Downloads\\Extract elevation from a DEM-20240528T130638Z-001\\Extract elevation from a DEM\\DEM.tif\")\n",
    "    row,col= dem.index(longitude,latitude)\n",
    "    dem_data = dem.read(1)\n",
    "\n",
    "    print(\"The elevation of \", name , \"is: \", dem_data[row,col],\"m\")"
   ]
  },
  {
   "cell_type": "code",
   "execution_count": null,
   "metadata": {},
   "outputs": [],
   "source": []
  },
  {
   "cell_type": "code",
   "execution_count": 19,
   "metadata": {},
   "outputs": [
    {
     "data": {
      "text/plain": [
       "<open DatasetReader name='D:/Downloads/Extract elevation from a DEM-20240528T130638Z-001/Extract elevation from a DEM/DEM.tif' mode='r'>"
      ]
     },
     "execution_count": 19,
     "metadata": {},
     "output_type": "execute_result"
    }
   ],
   "source": []
  },
  {
   "cell_type": "code",
   "execution_count": null,
   "metadata": {},
   "outputs": [],
   "source": []
  }
 ],
 "metadata": {
  "kernelspec": {
   "display_name": "Python 3",
   "language": "python",
   "name": "python3"
  },
  "language_info": {
   "codemirror_mode": {
    "name": "ipython",
    "version": 3
   },
   "file_extension": ".py",
   "mimetype": "text/x-python",
   "name": "python",
   "nbconvert_exporter": "python",
   "pygments_lexer": "ipython3",
   "version": "3.12.3"
  }
 },
 "nbformat": 4,
 "nbformat_minor": 2
}
